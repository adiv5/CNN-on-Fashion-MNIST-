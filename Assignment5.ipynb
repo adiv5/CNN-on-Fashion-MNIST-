{
 "cells": [
  {
   "cell_type": "markdown",
   "metadata": {
    "colab": {
     "base_uri": "https://localhost:8080/",
     "height": 34
    },
    "colab_type": "code",
    "id": "8dyQnnA5ayOQ",
    "outputId": "4c471c29-fe00-47b7-b300-a20f92769c8c"
   },
   "source": [
    "## Name: Aditya Vartak\n",
    "#### Problem Statement : Implement CNN on fashion MNIST Data and Find out Max Validation accuracy . Find out test accuracy .Do some image augmentation  "
   ]
  },
  {
   "cell_type": "code",
   "execution_count": 2,
   "metadata": {
    "colab": {
     "base_uri": "https://localhost:8080/",
     "height": 34
    },
    "colab_type": "code",
    "id": "5Az3GAxTcsPq",
    "outputId": "f89dc7f4-86d4-46ff-f308-20a1f544533e"
   },
   "outputs": [
    {
     "name": "stderr",
     "output_type": "stream",
     "text": [
      "Using TensorFlow backend.\n"
     ]
    }
   ],
   "source": [
    "import numpy as np\n",
    "import pandas as pd\n",
    "from sklearn.model_selection import train_test_split\n",
    "from sklearn.metrics import classification_report\n",
    "import tensorflow as tf\n",
    "from tensorflow.python import keras\n",
    "from tensorflow.python.keras.models import Sequential\n",
    "from tensorflow.python.keras.layers import Dense, Flatten, Conv2D, Dropout, MaxPooling2D\n",
    "from IPython.display import SVG\n",
    "from keras.utils.vis_utils import model_to_dot\n",
    "from keras.utils import plot_model\n",
    "import seaborn as sns\n",
    "import matplotlib.pyplot as plt\n",
    "%matplotlib inline \n"
   ]
  },
  {
   "cell_type": "code",
   "execution_count": 0,
   "metadata": {
    "colab": {},
    "colab_type": "code",
    "id": "kHQwJSZzc8xT"
   },
   "outputs": [],
   "source": [
    "IMG_ROWS = 28\n",
    "IMG_COLS = 28\n",
    "NUM_CLASSES = 10\n",
    "TEST_SIZE = 0.2\n",
    "RANDOM_STATE = 42\n",
    "#Model\n",
    "NO_EPOCHS = 50\n",
    "BATCH_SIZE = 32\n"
   ]
  },
  {
   "cell_type": "code",
   "execution_count": 4,
   "metadata": {
    "colab": {
     "base_uri": "https://localhost:8080/",
     "height": 34
    },
    "colab_type": "code",
    "id": "Zq45k7Sna0AU",
    "outputId": "31d1ffec-6b27-42d2-cf7d-4b868a3dc070"
   },
   "outputs": [
    {
     "name": "stdout",
     "output_type": "stream",
     "text": [
      "(60000, 785) (10000, 785)\n"
     ]
    }
   ],
   "source": [
    "\n",
    "\n",
    "train=pd.read_csv(\"/content/gdrive/My Drive/fashion-mnist_train.csv\")\n",
    "test=pd.read_csv(\"/content/gdrive/My Drive/fashion-mnist_test.csv\")\n",
    "print(train.shape,test.shape)"
   ]
  },
  {
   "cell_type": "code",
   "execution_count": 0,
   "metadata": {
    "colab": {},
    "colab_type": "code",
    "id": "tVbeBTMvcJf4"
   },
   "outputs": [],
   "source": [
    "def data_preprocessing(raw):\n",
    "    out_y = keras.utils.to_categorical(raw.label, NUM_CLASSES)\n",
    "    num_images = raw.shape[0]\n",
    "    x_as_array = raw.values[:,1:]\n",
    "    x_shaped_array = x_as_array.reshape(num_images, IMG_ROWS, IMG_COLS, 1)\n",
    "    out_x = x_shaped_array / 255\n",
    "    return out_x, out_y"
   ]
  },
  {
   "cell_type": "code",
   "execution_count": 6,
   "metadata": {
    "colab": {
     "base_uri": "https://localhost:8080/",
     "height": 34
    },
    "colab_type": "code",
    "id": "sNkItYOSdEoI",
    "outputId": "7362a89d-fc37-4483-cc0c-113a37367c23"
   },
   "outputs": [
    {
     "name": "stdout",
     "output_type": "stream",
     "text": [
      "(10000, 28, 28, 1) (10000, 10)\n"
     ]
    }
   ],
   "source": [
    "X, y = data_preprocessing(train)\n",
    "X_test, y_test = data_preprocessing(test)\n",
    "print(X_test.shape,y_test.shape)"
   ]
  },
  {
   "cell_type": "code",
   "execution_count": 0,
   "metadata": {
    "colab": {},
    "colab_type": "code",
    "id": "p0NoaUEbdJIw"
   },
   "outputs": [],
   "source": [
    "X_train, X_val, y_train, y_val = train_test_split(X, y, test_size=TEST_SIZE, random_state=RANDOM_STATE)"
   ]
  },
  {
   "cell_type": "code",
   "execution_count": 8,
   "metadata": {
    "colab": {
     "base_uri": "https://localhost:8080/",
     "height": 71
    },
    "colab_type": "code",
    "id": "kYk28P4uG0kY",
    "outputId": "3ac8791e-d38c-4c4e-df3a-e15b480c5ff3"
   },
   "outputs": [
    {
     "name": "stderr",
     "output_type": "stream",
     "text": [
      "/usr/local/lib/python3.6/dist-packages/keras_preprocessing/image/image_data_generator.py:341: UserWarning: This ImageDataGenerator specifies `zca_whitening` which overrides setting of`featurewise_std_normalization`.\n",
      "  warnings.warn('This ImageDataGenerator specifies '\n"
     ]
    }
   ],
   "source": [
    "datagen = tf.keras.preprocessing.image.ImageDataGenerator(\n",
    "    featurewise_center=True,\n",
    "    featurewise_std_normalization=True,\n",
    "    rotation_range=20,\n",
    "    width_shift_range=0.2,\n",
    "    height_shift_range=0.2,\n",
    "    horizontal_flip=True,\n",
    "    zca_whitening=True)"
   ]
  },
  {
   "cell_type": "code",
   "execution_count": 0,
   "metadata": {
    "colab": {},
    "colab_type": "code",
    "id": "CfrcjhsUHWFb"
   },
   "outputs": [],
   "source": [
    "datagen.fit(X_train)"
   ]
  },
  {
   "cell_type": "code",
   "execution_count": 10,
   "metadata": {
    "colab": {
     "base_uri": "https://localhost:8080/",
     "height": 105
    },
    "colab_type": "code",
    "id": "ZTqVUqDK95jG",
    "outputId": "2e595ee5-823b-407a-919f-4a4b48995cd3"
   },
   "outputs": [
    {
     "name": "stderr",
     "output_type": "stream",
     "text": [
      "WARNING: Logging before flag parsing goes to stderr.\n",
      "W0723 04:11:42.197078 140268695451520 deprecation.py:506] From /usr/local/lib/python3.6/dist-packages/tensorflow/python/ops/init_ops.py:1251: calling VarianceScaling.__init__ (from tensorflow.python.ops.init_ops) with dtype is deprecated and will be removed in a future version.\n",
      "Instructions for updating:\n",
      "Call initializer instance with the dtype argument instead of passing it to the constructor\n"
     ]
    }
   ],
   "source": [
    "# Model\n",
    "model = Sequential()\n",
    "# Add convolution 2D\n",
    "model.add(Conv2D(64, kernel_size=(3, 3),\n",
    "                 activation='relu',\n",
    "                 kernel_initializer='he_normal',\n",
    "                 padding='same',\n",
    "                 input_shape=(IMG_ROWS, IMG_COLS, 1)))\n",
    "model.add(Conv2D(64, \n",
    "                 kernel_size=(3, 3), \n",
    "                 activation='relu',padding='same'))\n",
    "model.add(tf.keras.layers.BatchNormalization())\n",
    "model.add(MaxPooling2D(pool_size=(2, 2)))\n",
    "model.add(Dropout(0.3))\n",
    "model.add(Conv2D(128, kernel_size=(3, 3),\n",
    "                 activation='relu',\n",
    "                 kernel_initializer='he_normal',\n",
    "                 padding='same',\n",
    "                 input_shape=(IMG_ROWS, IMG_COLS, 1)))\n",
    "model.add(Conv2D(128, \n",
    "                 kernel_size=(3, 3), \n",
    "                 padding='same',\n",
    "                 activation='relu'))\n",
    "model.add(tf.keras.layers.BatchNormalization())\n",
    "model.add(MaxPooling2D(pool_size=(2, 2)))\n",
    "model.add(Dropout(0.3))\n",
    "\n",
    "model.add(Conv2D(256, kernel_size=(3, 3),\n",
    "                 activation='relu',\n",
    "                 kernel_initializer='he_normal',\n",
    "                 padding='same',\n",
    "                 input_shape=(IMG_ROWS, IMG_COLS, 1)))\n",
    "model.add(Conv2D(256, \n",
    "                 kernel_size=(3, 3), \n",
    "                 padding='same',\n",
    "                 activation='relu'))\n",
    "model.add(Conv2D(256, \n",
    "                 kernel_size=(3, 3), \n",
    "                 padding='same',\n",
    "                 activation='relu'))\n",
    "model.add(tf.keras.layers.BatchNormalization())\n",
    "model.add(MaxPooling2D(pool_size=(2, 2)))\n",
    "model.add(Dropout(0.3))\n",
    "\n",
    "#model.add(Conv2D(128, (3, 3), activation='relu'))\n",
    "model.add(Flatten())\n",
    "model.add(Dense(2048, activation='relu'))\n",
    "model.add(Dropout(0.3))\n",
    "model.add(Dense(512, activation='relu'))\n",
    "model.add(Dense(NUM_CLASSES, activation='softmax'))\n",
    "\n",
    "\n",
    "model.compile(loss=keras.losses.categorical_crossentropy,\n",
    "              optimizer=\"Adam\",\n",
    "              metrics=['accuracy'])"
   ]
  },
  {
   "cell_type": "code",
   "execution_count": 11,
   "metadata": {
    "colab": {
     "base_uri": "https://localhost:8080/",
     "height": 374
    },
    "colab_type": "code",
    "id": "OAfpPw_5H1Fr",
    "outputId": "ec1facdd-9b09-48cf-a2da-ae654a86a805"
   },
   "outputs": [
    {
     "name": "stdout",
     "output_type": "stream",
     "text": [
      "Epoch 1/10\n",
      "1500/1500 [==============================] - 52s 35ms/step - loss: 1.0030 - acc: 0.6314\n",
      "Epoch 2/10\n",
      "1500/1500 [==============================] - 47s 32ms/step - loss: 0.6562 - acc: 0.7552\n",
      "Epoch 3/10\n",
      "1500/1500 [==============================] - 47s 32ms/step - loss: 0.5810 - acc: 0.7857\n",
      "Epoch 4/10\n",
      "1500/1500 [==============================] - 48s 32ms/step - loss: 0.5387 - acc: 0.8034\n",
      "Epoch 5/10\n",
      "1500/1500 [==============================] - 47s 31ms/step - loss: 0.5096 - acc: 0.8154\n",
      "Epoch 6/10\n",
      "1500/1500 [==============================] - 46s 31ms/step - loss: 0.4889 - acc: 0.8213\n",
      "Epoch 7/10\n",
      "1500/1500 [==============================] - 46s 31ms/step - loss: 0.4594 - acc: 0.8330\n",
      "Epoch 8/10\n",
      "1500/1500 [==============================] - 48s 32ms/step - loss: 0.4506 - acc: 0.8383\n",
      "Epoch 9/10\n",
      "1500/1500 [==============================] - 47s 31ms/step - loss: 0.4332 - acc: 0.8446\n",
      "Epoch 10/10\n",
      "1500/1500 [==============================] - 48s 32ms/step - loss: 0.4225 - acc: 0.8472\n"
     ]
    },
    {
     "data": {
      "text/plain": [
       "<tensorflow.python.keras.callbacks.History at 0x7f9282035940>"
      ]
     },
     "execution_count": 11,
     "metadata": {
      "tags": []
     },
     "output_type": "execute_result"
    }
   ],
   "source": [
    "model.fit_generator(datagen.flow(X_train, y_train, batch_size=32),\n",
    "                    steps_per_epoch=len(X_train) / 32, epochs=10)"
   ]
  },
  {
   "cell_type": "code",
   "execution_count": 12,
   "metadata": {
    "colab": {
     "base_uri": "https://localhost:8080/",
     "height": 68
    },
    "colab_type": "code",
    "id": "3XUTm-fWdX9a",
    "outputId": "da8b9987-13af-4941-ad5d-ccade8d19fa9"
   },
   "outputs": [
    {
     "name": "stdout",
     "output_type": "stream",
     "text": [
      "Fashion MNIST train -  rows: 48000  columns: (28, 28, 1)\n",
      "Fashion MNIST valid -  rows: 12000  columns: (28, 28, 1)\n",
      "Fashion MNIST test -  rows: 10000  columns: (28, 28, 1)\n"
     ]
    }
   ],
   "source": [
    "print(\"Fashion MNIST train -  rows:\",X_train.shape[0],\" columns:\", X_train.shape[1:4])\n",
    "print(\"Fashion MNIST valid -  rows:\",X_val.shape[0],\" columns:\", X_val.shape[1:4])\n",
    "print(\"Fashion MNIST test -  rows:\",X_test.shape[0],\" columns:\", X_test.shape[1:4])"
   ]
  },
  {
   "cell_type": "code",
   "execution_count": 0,
   "metadata": {
    "colab": {},
    "colab_type": "code",
    "id": "Vt8K8KsShbsa"
   },
   "outputs": [],
   "source": [
    "from tensorflow.keras.callbacks import EarlyStopping,ReduceLROnPlateau"
   ]
  },
  {
   "cell_type": "code",
   "execution_count": 14,
   "metadata": {
    "colab": {
     "base_uri": "https://localhost:8080/",
     "height": 867
    },
    "colab_type": "code",
    "id": "Se9JyZPmduY0",
    "outputId": "4a45bef0-de2d-40df-fb9a-8c96586e1397"
   },
   "outputs": [
    {
     "name": "stdout",
     "output_type": "stream",
     "text": [
      "Model: \"sequential\"\n",
      "_________________________________________________________________\n",
      "Layer (type)                 Output Shape              Param #   \n",
      "=================================================================\n",
      "conv2d (Conv2D)              (None, 28, 28, 64)        640       \n",
      "_________________________________________________________________\n",
      "conv2d_1 (Conv2D)            (None, 28, 28, 64)        36928     \n",
      "_________________________________________________________________\n",
      "batch_normalization (BatchNo (None, 28, 28, 64)        256       \n",
      "_________________________________________________________________\n",
      "max_pooling2d (MaxPooling2D) (None, 14, 14, 64)        0         \n",
      "_________________________________________________________________\n",
      "dropout (Dropout)            (None, 14, 14, 64)        0         \n",
      "_________________________________________________________________\n",
      "conv2d_2 (Conv2D)            (None, 14, 14, 128)       73856     \n",
      "_________________________________________________________________\n",
      "conv2d_3 (Conv2D)            (None, 14, 14, 128)       147584    \n",
      "_________________________________________________________________\n",
      "batch_normalization_1 (Batch (None, 14, 14, 128)       512       \n",
      "_________________________________________________________________\n",
      "max_pooling2d_1 (MaxPooling2 (None, 7, 7, 128)         0         \n",
      "_________________________________________________________________\n",
      "dropout_1 (Dropout)          (None, 7, 7, 128)         0         \n",
      "_________________________________________________________________\n",
      "conv2d_4 (Conv2D)            (None, 7, 7, 256)         295168    \n",
      "_________________________________________________________________\n",
      "conv2d_5 (Conv2D)            (None, 7, 7, 256)         590080    \n",
      "_________________________________________________________________\n",
      "conv2d_6 (Conv2D)            (None, 7, 7, 256)         590080    \n",
      "_________________________________________________________________\n",
      "batch_normalization_2 (Batch (None, 7, 7, 256)         1024      \n",
      "_________________________________________________________________\n",
      "max_pooling2d_2 (MaxPooling2 (None, 3, 3, 256)         0         \n",
      "_________________________________________________________________\n",
      "dropout_2 (Dropout)          (None, 3, 3, 256)         0         \n",
      "_________________________________________________________________\n",
      "flatten (Flatten)            (None, 2304)              0         \n",
      "_________________________________________________________________\n",
      "dense (Dense)                (None, 2048)              4720640   \n",
      "_________________________________________________________________\n",
      "dropout_3 (Dropout)          (None, 2048)              0         \n",
      "_________________________________________________________________\n",
      "dense_1 (Dense)              (None, 512)               1049088   \n",
      "_________________________________________________________________\n",
      "dense_2 (Dense)              (None, 10)                5130      \n",
      "=================================================================\n",
      "Total params: 7,510,986\n",
      "Trainable params: 7,510,090\n",
      "Non-trainable params: 896\n",
      "_________________________________________________________________\n"
     ]
    }
   ],
   "source": [
    "model.summary()\n"
   ]
  },
  {
   "cell_type": "code",
   "execution_count": 15,
   "metadata": {
    "colab": {
     "base_uri": "https://localhost:8080/",
     "height": 1000
    },
    "colab_type": "code",
    "id": "PkMy7DhedyWr",
    "outputId": "b41f0811-4098-4b5d-acff-f30e28fb9304"
   },
   "outputs": [
    {
     "name": "stdout",
     "output_type": "stream",
     "text": [
      "Train on 48000 samples, validate on 12000 samples\n",
      "Epoch 1/50\n",
      "48000/48000 [==============================] - 22s 463us/sample - loss: 0.2858 - acc: 0.8955 - val_loss: 0.2627 - val_acc: 0.9118\n",
      "Epoch 2/50\n",
      "48000/48000 [==============================] - 22s 459us/sample - loss: 0.2374 - acc: 0.9150 - val_loss: 0.2471 - val_acc: 0.9098\n",
      "Epoch 3/50\n",
      "48000/48000 [==============================] - 22s 458us/sample - loss: 0.2177 - acc: 0.9219 - val_loss: 0.2280 - val_acc: 0.9197\n",
      "Epoch 4/50\n",
      "48000/48000 [==============================] - 22s 459us/sample - loss: 0.2021 - acc: 0.9274 - val_loss: 0.2018 - val_acc: 0.9300\n",
      "Epoch 5/50\n",
      "48000/48000 [==============================] - 22s 459us/sample - loss: 0.1862 - acc: 0.9334 - val_loss: 0.1996 - val_acc: 0.9328\n",
      "Epoch 6/50\n",
      "48000/48000 [==============================] - 22s 459us/sample - loss: 0.1751 - acc: 0.9380 - val_loss: 0.1997 - val_acc: 0.9324\n",
      "Epoch 7/50\n",
      "48000/48000 [==============================] - 22s 459us/sample - loss: 0.1622 - acc: 0.9421 - val_loss: 0.1881 - val_acc: 0.9327\n",
      "Epoch 8/50\n",
      "48000/48000 [==============================] - 22s 458us/sample - loss: 0.1533 - acc: 0.9461 - val_loss: 0.2053 - val_acc: 0.9325\n",
      "Epoch 9/50\n",
      "48000/48000 [==============================] - 22s 460us/sample - loss: 0.1493 - acc: 0.9473 - val_loss: 0.1925 - val_acc: 0.9326\n",
      "Epoch 10/50\n",
      "48000/48000 [==============================] - 22s 465us/sample - loss: 0.1365 - acc: 0.9519 - val_loss: 0.2056 - val_acc: 0.9313\n",
      "Epoch 11/50\n",
      "48000/48000 [==============================] - 22s 460us/sample - loss: 0.0951 - acc: 0.9657 - val_loss: 0.1860 - val_acc: 0.9414\n",
      "Epoch 12/50\n",
      "48000/48000 [==============================] - 22s 460us/sample - loss: 0.0848 - acc: 0.9691 - val_loss: 0.1898 - val_acc: 0.9434\n",
      "Epoch 13/50\n",
      "48000/48000 [==============================] - 22s 463us/sample - loss: 0.0767 - acc: 0.9712 - val_loss: 0.1970 - val_acc: 0.9434\n",
      "Epoch 14/50\n",
      "48000/48000 [==============================] - 22s 460us/sample - loss: 0.0704 - acc: 0.9736 - val_loss: 0.2112 - val_acc: 0.9433\n",
      "Epoch 15/50\n",
      "48000/48000 [==============================] - 22s 458us/sample - loss: 0.0625 - acc: 0.9771 - val_loss: 0.2099 - val_acc: 0.9428\n",
      "Epoch 16/50\n",
      "48000/48000 [==============================] - 22s 460us/sample - loss: 0.0600 - acc: 0.9770 - val_loss: 0.2141 - val_acc: 0.9448\n",
      "Epoch 17/50\n",
      "48000/48000 [==============================] - 22s 460us/sample - loss: 0.0557 - acc: 0.9795 - val_loss: 0.2222 - val_acc: 0.9446\n",
      "Epoch 18/50\n",
      "48000/48000 [==============================] - 22s 457us/sample - loss: 0.0549 - acc: 0.9791 - val_loss: 0.2162 - val_acc: 0.9455\n",
      "Epoch 19/50\n",
      "48000/48000 [==============================] - 22s 461us/sample - loss: 0.0523 - acc: 0.9803 - val_loss: 0.2342 - val_acc: 0.9443\n",
      "Epoch 20/50\n",
      "48000/48000 [==============================] - 22s 465us/sample - loss: 0.0502 - acc: 0.9805 - val_loss: 0.2342 - val_acc: 0.9443\n",
      "Epoch 21/50\n",
      "48000/48000 [==============================] - 22s 459us/sample - loss: 0.0464 - acc: 0.9824 - val_loss: 0.2474 - val_acc: 0.9429\n",
      "Epoch 22/50\n",
      "48000/48000 [==============================] - 22s 458us/sample - loss: 0.0457 - acc: 0.9828 - val_loss: 0.2481 - val_acc: 0.9432\n",
      "Epoch 23/50\n",
      "48000/48000 [==============================] - 22s 458us/sample - loss: 0.0430 - acc: 0.9838 - val_loss: 0.2601 - val_acc: 0.9441\n",
      "Epoch 24/50\n",
      "48000/48000 [==============================] - 22s 462us/sample - loss: 0.0428 - acc: 0.9841 - val_loss: 0.2530 - val_acc: 0.9442\n",
      "Epoch 25/50\n",
      "48000/48000 [==============================] - 22s 458us/sample - loss: 0.0409 - acc: 0.9851 - val_loss: 0.2609 - val_acc: 0.9428\n",
      "Epoch 26/50\n",
      "48000/48000 [==============================] - 22s 459us/sample - loss: 0.0387 - acc: 0.9855 - val_loss: 0.2716 - val_acc: 0.9436\n",
      "Epoch 27/50\n",
      "48000/48000 [==============================] - 22s 461us/sample - loss: 0.0376 - acc: 0.9860 - val_loss: 0.2719 - val_acc: 0.9429\n",
      "Epoch 28/50\n",
      "48000/48000 [==============================] - 22s 460us/sample - loss: 0.0356 - acc: 0.9866 - val_loss: 0.2876 - val_acc: 0.9436\n",
      "Epoch 29/50\n",
      "48000/48000 [==============================] - 22s 460us/sample - loss: 0.0350 - acc: 0.9873 - val_loss: 0.2842 - val_acc: 0.9409\n",
      "Epoch 30/50\n",
      "48000/48000 [==============================] - 22s 459us/sample - loss: 0.0355 - acc: 0.9867 - val_loss: 0.2781 - val_acc: 0.9424\n",
      "Epoch 31/50\n",
      "48000/48000 [==============================] - 22s 458us/sample - loss: 0.0336 - acc: 0.9875 - val_loss: 0.2835 - val_acc: 0.9428\n",
      "Epoch 32/50\n",
      "48000/48000 [==============================] - 22s 458us/sample - loss: 0.0319 - acc: 0.9883 - val_loss: 0.2944 - val_acc: 0.9425\n",
      "Epoch 33/50\n",
      "48000/48000 [==============================] - 22s 456us/sample - loss: 0.0310 - acc: 0.9891 - val_loss: 0.2935 - val_acc: 0.9433\n",
      "Epoch 34/50\n",
      "48000/48000 [==============================] - 22s 456us/sample - loss: 0.0314 - acc: 0.9882 - val_loss: 0.3118 - val_acc: 0.9432\n",
      "Epoch 35/50\n",
      "48000/48000 [==============================] - 22s 458us/sample - loss: 0.0299 - acc: 0.9891 - val_loss: 0.2979 - val_acc: 0.9429\n",
      "Epoch 36/50\n",
      "48000/48000 [==============================] - 22s 459us/sample - loss: 0.0281 - acc: 0.9897 - val_loss: 0.3157 - val_acc: 0.9439\n",
      "Epoch 37/50\n",
      "48000/48000 [==============================] - 22s 458us/sample - loss: 0.0292 - acc: 0.9895 - val_loss: 0.3160 - val_acc: 0.9443\n",
      "Epoch 38/50\n",
      "48000/48000 [==============================] - 22s 464us/sample - loss: 0.0257 - acc: 0.9905 - val_loss: 0.3462 - val_acc: 0.9433\n",
      "Epoch 39/50\n",
      "48000/48000 [==============================] - 22s 460us/sample - loss: 0.0258 - acc: 0.9909 - val_loss: 0.3222 - val_acc: 0.9427\n",
      "Epoch 40/50\n",
      "48000/48000 [==============================] - 22s 454us/sample - loss: 0.0250 - acc: 0.9909 - val_loss: 0.3235 - val_acc: 0.9430\n",
      "Epoch 41/50\n",
      "48000/48000 [==============================] - 22s 454us/sample - loss: 0.0243 - acc: 0.9912 - val_loss: 0.3352 - val_acc: 0.9437\n",
      "Epoch 42/50\n",
      "48000/48000 [==============================] - 22s 452us/sample - loss: 0.0260 - acc: 0.9908 - val_loss: 0.3214 - val_acc: 0.9433\n",
      "Epoch 43/50\n",
      "48000/48000 [==============================] - 22s 452us/sample - loss: 0.0250 - acc: 0.9911 - val_loss: 0.3209 - val_acc: 0.9430\n",
      "Epoch 44/50\n",
      "48000/48000 [==============================] - 22s 452us/sample - loss: 0.0225 - acc: 0.9922 - val_loss: 0.3265 - val_acc: 0.9439\n",
      "Epoch 45/50\n",
      "48000/48000 [==============================] - 22s 452us/sample - loss: 0.0244 - acc: 0.9915 - val_loss: 0.3268 - val_acc: 0.9433\n",
      "Epoch 46/50\n",
      "48000/48000 [==============================] - 22s 459us/sample - loss: 0.0218 - acc: 0.9921 - val_loss: 0.3393 - val_acc: 0.9426\n",
      "Epoch 47/50\n",
      "48000/48000 [==============================] - 22s 459us/sample - loss: 0.0199 - acc: 0.9929 - val_loss: 0.3354 - val_acc: 0.9424\n",
      "Epoch 48/50\n",
      "48000/48000 [==============================] - 22s 454us/sample - loss: 0.0217 - acc: 0.9924 - val_loss: 0.3401 - val_acc: 0.9445\n",
      "Epoch 49/50\n",
      "48000/48000 [==============================] - 22s 453us/sample - loss: 0.0213 - acc: 0.9923 - val_loss: 0.3271 - val_acc: 0.9437\n",
      "Epoch 50/50\n",
      "48000/48000 [==============================] - 22s 454us/sample - loss: 0.0195 - acc: 0.9928 - val_loss: 0.3534 - val_acc: 0.9431\n"
     ]
    }
   ],
   "source": [
    "reduce_lr = ReduceLROnPlateau(monitor='val_loss', factor=0.2,\n",
    "                              patience=3, min_lr=0.0001)\n",
    "earlystop=EarlyStopping(monitor='val_loss', patience=3)\n",
    "\n",
    "train_model = model.fit(X_train, y_train,\n",
    "                  batch_size=BATCH_SIZE,\n",
    "                  epochs=NO_EPOCHS,\n",
    "                  verbose=1,\n",
    "                  validation_data=(X_val, y_val),callbacks=[reduce_lr])"
   ]
  },
  {
   "cell_type": "code",
   "execution_count": 16,
   "metadata": {
    "colab": {
     "base_uri": "https://localhost:8080/",
     "height": 286
    },
    "colab_type": "code",
    "id": "7Tc4xUAfkqpP",
    "outputId": "7d00d5ea-ea21-4648-b0f0-add51e8baee1"
   },
   "outputs": [
    {
     "data": {
      "text/plain": [
       "[<matplotlib.lines.Line2D at 0x7f9281fffeb8>]"
      ]
     },
     "execution_count": 16,
     "metadata": {
      "tags": []
     },
     "output_type": "execute_result"
    },
    {
     "data": {
      "image/png": "[encoded data removed]",
      "text/plain": [
       "<Figure size 432x288 with 1 Axes>"
      ]
     },
     "metadata": {
      "tags": []
     },
     "output_type": "display_data"
    }
   ],
   "source": [
    "plt.plot(train_model.history['acc'])"
   ]
  },
  {
   "cell_type": "code",
   "execution_count": 17,
   "metadata": {
    "colab": {
     "base_uri": "https://localhost:8080/",
     "height": 286
    },
    "colab_type": "code",
    "id": "U1VIRru6Z39O",
    "outputId": "463405d8-150d-4bf1-d2b4-fa81b0c93034"
   },
   "outputs": [
    {
     "data": {
      "text/plain": [
       "[<matplotlib.lines.Line2D at 0x7f9281f8e860>]"
      ]
     },
     "execution_count": 17,
     "metadata": {
      "tags": []
     },
     "output_type": "execute_result"
    },
    {
     "data": {
      "image/png": "[encoded data removed]",
      "text/plain": [
       "<Figure size 432x288 with 1 Axes>"
      ]
     },
     "metadata": {
      "tags": []
     },
     "output_type": "display_data"
    }
   ],
   "source": [
    "plt.plot(train_model.history['val_acc'])"
   ]
  },
  {
   "cell_type": "code",
   "execution_count": 18,
   "metadata": {
    "colab": {
     "base_uri": "https://localhost:8080/",
     "height": 286
    },
    "colab_type": "code",
    "id": "_LueOLeqZ8tH",
    "outputId": "c7e4bb82-a5ac-4343-f597-176258711604"
   },
   "outputs": [
    {
     "data": {
      "text/plain": [
       "[<matplotlib.lines.Line2D at 0x7f9281ef9470>]"
      ]
     },
     "execution_count": 18,
     "metadata": {
      "tags": []
     },
     "output_type": "execute_result"
    },
    {
     "data": {
      "image/png": "[encoded data removed]",
      "text/plain": [
       "<Figure size 432x288 with 1 Axes>"
      ]
     },
     "metadata": {
      "tags": []
     },
     "output_type": "display_data"
    }
   ],
   "source": [
    "plt.plot(train_model.history['loss'])"
   ]
  },
  {
   "cell_type": "code",
   "execution_count": 19,
   "metadata": {
    "colab": {
     "base_uri": "https://localhost:8080/",
     "height": 286
    },
    "colab_type": "code",
    "id": "Jvjyh8zzZ_7p",
    "outputId": "8dd35cfb-d32a-4c11-dcca-66c687458974"
   },
   "outputs": [
    {
     "data": {
      "text/plain": [
       "[<matplotlib.lines.Line2D at 0x7f9281ecad68>]"
      ]
     },
     "execution_count": 19,
     "metadata": {
      "tags": []
     },
     "output_type": "execute_result"
    },
    {
     "data": {
      "image/png": "[encoded data removed]",
      "text/plain": [
       "<Figure size 432x288 with 1 Axes>"
      ]
     },
     "metadata": {
      "tags": []
     },
     "output_type": "display_data"
    }
   ],
   "source": [
    "plt.plot(train_model.history['val_loss'])"
   ]
  },
  {
   "cell_type": "code",
   "execution_count": 20,
   "metadata": {
    "colab": {
     "base_uri": "https://localhost:8080/",
     "height": 34
    },
    "colab_type": "code",
    "id": "Digla-iDaCHn",
    "outputId": "776264fe-404f-4ace-f01c-3b46ccadb631"
   },
   "outputs": [
    {
     "name": "stdout",
     "output_type": "stream",
     "text": [
      "(10000,)\n"
     ]
    }
   ],
   "source": [
    "predictions=model.predict_classes(X_test)\n",
    "print(predictions.shape)"
   ]
  },
  {
   "cell_type": "code",
   "execution_count": 21,
   "metadata": {
    "colab": {
     "base_uri": "https://localhost:8080/",
     "height": 34
    },
    "colab_type": "code",
    "id": "A4lUn1-ewx6U",
    "outputId": "ca8186d7-64f1-4e3f-88c6-e3c5fd730061"
   },
   "outputs": [
    {
     "name": "stdout",
     "output_type": "stream",
     "text": [
      "(10000,)\n"
     ]
    }
   ],
   "source": [
    "actual=np.argmax(y_test,axis=1)\n",
    "print(actual.shape)"
   ]
  },
  {
   "cell_type": "code",
   "execution_count": 22,
   "metadata": {
    "colab": {
     "base_uri": "https://localhost:8080/",
     "height": 51
    },
    "colab_type": "code",
    "id": "BkAsM0Md5vWW",
    "outputId": "271c370a-616e-4bd4-cfcc-0f3947b7cb31"
   },
   "outputs": [
    {
     "name": "stdout",
     "output_type": "stream",
     "text": [
      "9463\n",
      "Test Accuracy: 0.9463\n"
     ]
    }
   ],
   "source": [
    "s=0\n",
    "for i in range(10000):\n",
    "  if(predictions[i]==actual[i]):\n",
    "    s+=1\n",
    "\n",
    "print(s)\n",
    "print(\"Test Accuracy:\",float(s/10000))"
   ]
  },
  {
   "cell_type": "code",
   "execution_count": 0,
   "metadata": {
    "colab": {},
    "colab_type": "code",
    "id": "aAsEIeiJ9inb"
   },
   "outputs": [],
   "source": []
  }
 ],
 "metadata": {
  "accelerator": "GPU",
  "colab": {
   "collapsed_sections": [],
   "name": "Assignment5.ipynb",
   "provenance": [],
   "version": "0.3.2"
  },
  "kernelspec": {
   "display_name": "Python 3",
   "language": "python",
   "name": "python3"
  },
  "language_info": {
   "codemirror_mode": {
    "name": "ipython",
    "version": 3
   },
   "file_extension": ".py",
   "mimetype": "text/x-python",
   "name": "python",
   "nbconvert_exporter": "python",
   "pygments_lexer": "ipython3",
   "version": "3.7.3"
  }
 },
 "nbformat": 4,
 "nbformat_minor": 1
}
